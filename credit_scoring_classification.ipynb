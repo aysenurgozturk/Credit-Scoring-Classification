{
 "cells": [
  {
   "cell_type": "code",
   "execution_count": 1,
   "id": "a7affd1b",
   "metadata": {},
   "outputs": [],
   "source": [
    "import pandas as pd\n",
    "import numpy as np\n",
    "import pandas as pd\n",
    "import seaborn as sns\n",
    "import matplotlib.pyplot as plt\n",
    "pd.options.mode.chained_assignment = None  # default='warn'\n",
    "%matplotlib inline\n",
    "import warnings\n",
    "from itertools import combinations\n",
    "import scipy.stats\n",
    "warnings.simplefilter(action=\"ignore\", category=FutureWarning)"
   ]
  },
  {
   "cell_type": "code",
   "execution_count": 2,
   "id": "c4f6533e",
   "metadata": {},
   "outputs": [],
   "source": [
    "df=pd.read_csv(\"hmeq.csv\")"
   ]
  },
  {
   "cell_type": "code",
   "execution_count": 3,
   "id": "e715a172",
   "metadata": {},
   "outputs": [
    {
     "name": "stdout",
     "output_type": "stream",
     "text": [
      "<class 'pandas.core.frame.DataFrame'>\n",
      "RangeIndex: 5960 entries, 0 to 5959\n",
      "Data columns (total 13 columns):\n",
      " #   Column   Non-Null Count  Dtype  \n",
      "---  ------   --------------  -----  \n",
      " 0   BAD      5960 non-null   int64  \n",
      " 1   LOAN     5960 non-null   int64  \n",
      " 2   MORTDUE  5442 non-null   float64\n",
      " 3   VALUE    5848 non-null   float64\n",
      " 4   REASON   5708 non-null   object \n",
      " 5   JOB      5681 non-null   object \n",
      " 6   YOJ      5445 non-null   float64\n",
      " 7   DEROG    5252 non-null   float64\n",
      " 8   DELINQ   5380 non-null   float64\n",
      " 9   CLAGE    5652 non-null   float64\n",
      " 10  NINQ     5450 non-null   float64\n",
      " 11  CLNO     5738 non-null   float64\n",
      " 12  DEBTINC  4693 non-null   float64\n",
      "dtypes: float64(9), int64(2), object(2)\n",
      "memory usage: 605.4+ KB\n"
     ]
    }
   ],
   "source": [
    "df.info()"
   ]
  },
  {
   "cell_type": "code",
   "execution_count": 4,
   "id": "22cd5818",
   "metadata": {},
   "outputs": [
    {
     "data": {
      "text/plain": [
       "BAD          int64\n",
       "LOAN         int64\n",
       "MORTDUE    float64\n",
       "VALUE      float64\n",
       "REASON      object\n",
       "JOB         object\n",
       "YOJ        float64\n",
       "DEROG      float64\n",
       "DELINQ     float64\n",
       "CLAGE      float64\n",
       "NINQ       float64\n",
       "CLNO       float64\n",
       "DEBTINC    float64\n",
       "dtype: object"
      ]
     },
     "execution_count": 4,
     "metadata": {},
     "output_type": "execute_result"
    }
   ],
   "source": [
    "df.dtypes"
   ]
  },
  {
   "cell_type": "code",
   "execution_count": 5,
   "id": "5c215bde",
   "metadata": {},
   "outputs": [
    {
     "data": {
      "text/html": [
       "<div>\n",
       "<style scoped>\n",
       "    .dataframe tbody tr th:only-of-type {\n",
       "        vertical-align: middle;\n",
       "    }\n",
       "\n",
       "    .dataframe tbody tr th {\n",
       "        vertical-align: top;\n",
       "    }\n",
       "\n",
       "    .dataframe thead th {\n",
       "        text-align: right;\n",
       "    }\n",
       "</style>\n",
       "<table border=\"1\" class=\"dataframe\">\n",
       "  <thead>\n",
       "    <tr style=\"text-align: right;\">\n",
       "      <th></th>\n",
       "      <th>BAD</th>\n",
       "      <th>LOAN</th>\n",
       "      <th>MORTDUE</th>\n",
       "      <th>VALUE</th>\n",
       "      <th>REASON</th>\n",
       "      <th>JOB</th>\n",
       "      <th>YOJ</th>\n",
       "      <th>DEROG</th>\n",
       "      <th>DELINQ</th>\n",
       "      <th>CLAGE</th>\n",
       "      <th>NINQ</th>\n",
       "      <th>CLNO</th>\n",
       "      <th>DEBTINC</th>\n",
       "    </tr>\n",
       "  </thead>\n",
       "  <tbody>\n",
       "    <tr>\n",
       "      <th>0</th>\n",
       "      <td>1</td>\n",
       "      <td>1100</td>\n",
       "      <td>25860.0</td>\n",
       "      <td>39025.0</td>\n",
       "      <td>HomeImp</td>\n",
       "      <td>Other</td>\n",
       "      <td>10.5</td>\n",
       "      <td>0.0</td>\n",
       "      <td>0.0</td>\n",
       "      <td>94.366667</td>\n",
       "      <td>1.0</td>\n",
       "      <td>9.0</td>\n",
       "      <td>NaN</td>\n",
       "    </tr>\n",
       "    <tr>\n",
       "      <th>1</th>\n",
       "      <td>1</td>\n",
       "      <td>1300</td>\n",
       "      <td>70053.0</td>\n",
       "      <td>68400.0</td>\n",
       "      <td>HomeImp</td>\n",
       "      <td>Other</td>\n",
       "      <td>7.0</td>\n",
       "      <td>0.0</td>\n",
       "      <td>2.0</td>\n",
       "      <td>121.833333</td>\n",
       "      <td>0.0</td>\n",
       "      <td>14.0</td>\n",
       "      <td>NaN</td>\n",
       "    </tr>\n",
       "    <tr>\n",
       "      <th>2</th>\n",
       "      <td>1</td>\n",
       "      <td>1500</td>\n",
       "      <td>13500.0</td>\n",
       "      <td>16700.0</td>\n",
       "      <td>HomeImp</td>\n",
       "      <td>Other</td>\n",
       "      <td>4.0</td>\n",
       "      <td>0.0</td>\n",
       "      <td>0.0</td>\n",
       "      <td>149.466667</td>\n",
       "      <td>1.0</td>\n",
       "      <td>10.0</td>\n",
       "      <td>NaN</td>\n",
       "    </tr>\n",
       "    <tr>\n",
       "      <th>3</th>\n",
       "      <td>1</td>\n",
       "      <td>1500</td>\n",
       "      <td>NaN</td>\n",
       "      <td>NaN</td>\n",
       "      <td>NaN</td>\n",
       "      <td>NaN</td>\n",
       "      <td>NaN</td>\n",
       "      <td>NaN</td>\n",
       "      <td>NaN</td>\n",
       "      <td>NaN</td>\n",
       "      <td>NaN</td>\n",
       "      <td>NaN</td>\n",
       "      <td>NaN</td>\n",
       "    </tr>\n",
       "    <tr>\n",
       "      <th>4</th>\n",
       "      <td>0</td>\n",
       "      <td>1700</td>\n",
       "      <td>97800.0</td>\n",
       "      <td>112000.0</td>\n",
       "      <td>HomeImp</td>\n",
       "      <td>Office</td>\n",
       "      <td>3.0</td>\n",
       "      <td>0.0</td>\n",
       "      <td>0.0</td>\n",
       "      <td>93.333333</td>\n",
       "      <td>0.0</td>\n",
       "      <td>14.0</td>\n",
       "      <td>NaN</td>\n",
       "    </tr>\n",
       "  </tbody>\n",
       "</table>\n",
       "</div>"
      ],
      "text/plain": [
       "   BAD  LOAN  MORTDUE     VALUE   REASON     JOB   YOJ  DEROG  DELINQ  \\\n",
       "0    1  1100  25860.0   39025.0  HomeImp   Other  10.5    0.0     0.0   \n",
       "1    1  1300  70053.0   68400.0  HomeImp   Other   7.0    0.0     2.0   \n",
       "2    1  1500  13500.0   16700.0  HomeImp   Other   4.0    0.0     0.0   \n",
       "3    1  1500      NaN       NaN      NaN     NaN   NaN    NaN     NaN   \n",
       "4    0  1700  97800.0  112000.0  HomeImp  Office   3.0    0.0     0.0   \n",
       "\n",
       "        CLAGE  NINQ  CLNO  DEBTINC  \n",
       "0   94.366667   1.0   9.0      NaN  \n",
       "1  121.833333   0.0  14.0      NaN  \n",
       "2  149.466667   1.0  10.0      NaN  \n",
       "3         NaN   NaN   NaN      NaN  \n",
       "4   93.333333   0.0  14.0      NaN  "
      ]
     },
     "execution_count": 5,
     "metadata": {},
     "output_type": "execute_result"
    }
   ],
   "source": [
    "df.head()"
   ]
  },
  {
   "cell_type": "code",
   "execution_count": 6,
   "id": "8d378035",
   "metadata": {},
   "outputs": [
    {
     "data": {
      "text/html": [
       "<div>\n",
       "<style scoped>\n",
       "    .dataframe tbody tr th:only-of-type {\n",
       "        vertical-align: middle;\n",
       "    }\n",
       "\n",
       "    .dataframe tbody tr th {\n",
       "        vertical-align: top;\n",
       "    }\n",
       "\n",
       "    .dataframe thead th {\n",
       "        text-align: right;\n",
       "    }\n",
       "</style>\n",
       "<table border=\"1\" class=\"dataframe\">\n",
       "  <thead>\n",
       "    <tr style=\"text-align: right;\">\n",
       "      <th></th>\n",
       "      <th>BAD</th>\n",
       "      <th>LOAN</th>\n",
       "      <th>MORTDUE</th>\n",
       "      <th>VALUE</th>\n",
       "      <th>YOJ</th>\n",
       "      <th>DEROG</th>\n",
       "      <th>DELINQ</th>\n",
       "      <th>CLAGE</th>\n",
       "      <th>NINQ</th>\n",
       "      <th>CLNO</th>\n",
       "      <th>DEBTINC</th>\n",
       "    </tr>\n",
       "  </thead>\n",
       "  <tbody>\n",
       "    <tr>\n",
       "      <th>count</th>\n",
       "      <td>5960.000000</td>\n",
       "      <td>5960.000000</td>\n",
       "      <td>5442.000000</td>\n",
       "      <td>5848.000000</td>\n",
       "      <td>5445.000000</td>\n",
       "      <td>5252.000000</td>\n",
       "      <td>5380.000000</td>\n",
       "      <td>5652.000000</td>\n",
       "      <td>5450.000000</td>\n",
       "      <td>5738.000000</td>\n",
       "      <td>4693.000000</td>\n",
       "    </tr>\n",
       "    <tr>\n",
       "      <th>mean</th>\n",
       "      <td>0.199497</td>\n",
       "      <td>18607.969799</td>\n",
       "      <td>73760.817200</td>\n",
       "      <td>101776.048741</td>\n",
       "      <td>8.922268</td>\n",
       "      <td>0.254570</td>\n",
       "      <td>0.449442</td>\n",
       "      <td>179.766275</td>\n",
       "      <td>1.186055</td>\n",
       "      <td>21.296096</td>\n",
       "      <td>33.779915</td>\n",
       "    </tr>\n",
       "    <tr>\n",
       "      <th>std</th>\n",
       "      <td>0.399656</td>\n",
       "      <td>11207.480417</td>\n",
       "      <td>44457.609458</td>\n",
       "      <td>57385.775334</td>\n",
       "      <td>7.573982</td>\n",
       "      <td>0.846047</td>\n",
       "      <td>1.127266</td>\n",
       "      <td>85.810092</td>\n",
       "      <td>1.728675</td>\n",
       "      <td>10.138933</td>\n",
       "      <td>8.601746</td>\n",
       "    </tr>\n",
       "    <tr>\n",
       "      <th>min</th>\n",
       "      <td>0.000000</td>\n",
       "      <td>1100.000000</td>\n",
       "      <td>2063.000000</td>\n",
       "      <td>8000.000000</td>\n",
       "      <td>0.000000</td>\n",
       "      <td>0.000000</td>\n",
       "      <td>0.000000</td>\n",
       "      <td>0.000000</td>\n",
       "      <td>0.000000</td>\n",
       "      <td>0.000000</td>\n",
       "      <td>0.524499</td>\n",
       "    </tr>\n",
       "    <tr>\n",
       "      <th>25%</th>\n",
       "      <td>0.000000</td>\n",
       "      <td>11100.000000</td>\n",
       "      <td>46276.000000</td>\n",
       "      <td>66075.500000</td>\n",
       "      <td>3.000000</td>\n",
       "      <td>0.000000</td>\n",
       "      <td>0.000000</td>\n",
       "      <td>115.116702</td>\n",
       "      <td>0.000000</td>\n",
       "      <td>15.000000</td>\n",
       "      <td>29.140031</td>\n",
       "    </tr>\n",
       "    <tr>\n",
       "      <th>50%</th>\n",
       "      <td>0.000000</td>\n",
       "      <td>16300.000000</td>\n",
       "      <td>65019.000000</td>\n",
       "      <td>89235.500000</td>\n",
       "      <td>7.000000</td>\n",
       "      <td>0.000000</td>\n",
       "      <td>0.000000</td>\n",
       "      <td>173.466667</td>\n",
       "      <td>1.000000</td>\n",
       "      <td>20.000000</td>\n",
       "      <td>34.818262</td>\n",
       "    </tr>\n",
       "    <tr>\n",
       "      <th>75%</th>\n",
       "      <td>0.000000</td>\n",
       "      <td>23300.000000</td>\n",
       "      <td>91488.000000</td>\n",
       "      <td>119824.250000</td>\n",
       "      <td>13.000000</td>\n",
       "      <td>0.000000</td>\n",
       "      <td>0.000000</td>\n",
       "      <td>231.562278</td>\n",
       "      <td>2.000000</td>\n",
       "      <td>26.000000</td>\n",
       "      <td>39.003141</td>\n",
       "    </tr>\n",
       "    <tr>\n",
       "      <th>max</th>\n",
       "      <td>1.000000</td>\n",
       "      <td>89900.000000</td>\n",
       "      <td>399550.000000</td>\n",
       "      <td>855909.000000</td>\n",
       "      <td>41.000000</td>\n",
       "      <td>10.000000</td>\n",
       "      <td>15.000000</td>\n",
       "      <td>1168.233561</td>\n",
       "      <td>17.000000</td>\n",
       "      <td>71.000000</td>\n",
       "      <td>203.312149</td>\n",
       "    </tr>\n",
       "  </tbody>\n",
       "</table>\n",
       "</div>"
      ],
      "text/plain": [
       "               BAD          LOAN        MORTDUE          VALUE          YOJ  \\\n",
       "count  5960.000000   5960.000000    5442.000000    5848.000000  5445.000000   \n",
       "mean      0.199497  18607.969799   73760.817200  101776.048741     8.922268   \n",
       "std       0.399656  11207.480417   44457.609458   57385.775334     7.573982   \n",
       "min       0.000000   1100.000000    2063.000000    8000.000000     0.000000   \n",
       "25%       0.000000  11100.000000   46276.000000   66075.500000     3.000000   \n",
       "50%       0.000000  16300.000000   65019.000000   89235.500000     7.000000   \n",
       "75%       0.000000  23300.000000   91488.000000  119824.250000    13.000000   \n",
       "max       1.000000  89900.000000  399550.000000  855909.000000    41.000000   \n",
       "\n",
       "             DEROG       DELINQ        CLAGE         NINQ         CLNO  \\\n",
       "count  5252.000000  5380.000000  5652.000000  5450.000000  5738.000000   \n",
       "mean      0.254570     0.449442   179.766275     1.186055    21.296096   \n",
       "std       0.846047     1.127266    85.810092     1.728675    10.138933   \n",
       "min       0.000000     0.000000     0.000000     0.000000     0.000000   \n",
       "25%       0.000000     0.000000   115.116702     0.000000    15.000000   \n",
       "50%       0.000000     0.000000   173.466667     1.000000    20.000000   \n",
       "75%       0.000000     0.000000   231.562278     2.000000    26.000000   \n",
       "max      10.000000    15.000000  1168.233561    17.000000    71.000000   \n",
       "\n",
       "           DEBTINC  \n",
       "count  4693.000000  \n",
       "mean     33.779915  \n",
       "std       8.601746  \n",
       "min       0.524499  \n",
       "25%      29.140031  \n",
       "50%      34.818262  \n",
       "75%      39.003141  \n",
       "max     203.312149  "
      ]
     },
     "execution_count": 6,
     "metadata": {},
     "output_type": "execute_result"
    }
   ],
   "source": [
    "df.describe()"
   ]
  },
  {
   "cell_type": "code",
   "execution_count": 7,
   "id": "cc0a9aef",
   "metadata": {},
   "outputs": [],
   "source": [
    "#data.isna().sum() / data.shape[0] *100"
   ]
  },
  {
   "cell_type": "code",
   "execution_count": 8,
   "id": "0dbc432b",
   "metadata": {},
   "outputs": [
    {
     "data": {
      "text/plain": [
       "BAD           0\n",
       "LOAN          0\n",
       "MORTDUE     518\n",
       "VALUE       112\n",
       "REASON      252\n",
       "JOB         279\n",
       "YOJ         515\n",
       "DEROG       708\n",
       "DELINQ      580\n",
       "CLAGE       308\n",
       "NINQ        510\n",
       "CLNO        222\n",
       "DEBTINC    1267\n",
       "dtype: int64"
      ]
     },
     "execution_count": 8,
     "metadata": {},
     "output_type": "execute_result"
    }
   ],
   "source": [
    "df.isna().sum()"
   ]
  },
  {
   "cell_type": "code",
   "execution_count": 9,
   "id": "1b08b968",
   "metadata": {},
   "outputs": [
    {
     "data": {
      "text/plain": [
       "<BarContainer object of 13 artists>"
      ]
     },
     "execution_count": 9,
     "metadata": {},
     "output_type": "execute_result"
    },
    {
     "data": {
      "image/png": "[encoded data removed]",
      "text/plain": [
       "<Figure size 864x432 with 1 Axes>"
      ]
     },
     "metadata": {
      "needs_background": "light"
     },
     "output_type": "display_data"
    }
   ],
   "source": [
    "null_counts = df.isnull().sum()/len(df)\n",
    "plt.figure(figsize=(12,6))\n",
    "plt.xticks(np.arange(len(null_counts)),null_counts.index,rotation='vertical')\n",
    "plt.ylabel('Fraction of rows with missing data')\n",
    "plt.bar(np.arange(len(null_counts)),null_counts)"
   ]
  },
  {
   "cell_type": "code",
   "execution_count": 13,
   "id": "3a74711c",
   "metadata": {},
   "outputs": [
    {
     "data": {
      "text/plain": [
       "<AxesSubplot:xlabel='VALUE', ylabel='Density'>"
      ]
     },
     "execution_count": 13,
     "metadata": {},
     "output_type": "execute_result"
    },
    {
     "data": {
      "image/png": "[encoded data removed]",
      "text/plain": [
       "<Figure size 432x288 with 1 Axes>"
      ]
     },
     "metadata": {
      "needs_background": "light"
     },
     "output_type": "display_data"
    }
   ],
   "source": [
    "#https://towardsdatascience.com/understanding-boxplots-5e2df7bcbd51\n",
    "#https://vitalflux.com/pandas-impute-missing-values-mean-median-mode/\n",
    "# Distribution plot\n",
    "sns.boxplot(df.VALUE)\n",
    "sns.distplot(df.VALUE)\n",
    "#bunu hepsine yapıp yorumlayabilirsin."
   ]
  },
  {
   "cell_type": "code",
   "execution_count": 11,
   "id": "2ea2223d",
   "metadata": {
    "scrolled": true
   },
   "outputs": [
    {
     "data": {
      "text/plain": [
       "<seaborn.axisgrid.FacetGrid at 0x1e017e91a60>"
      ]
     },
     "execution_count": 11,
     "metadata": {},
     "output_type": "execute_result"
    },
    {
     "data": {
      "image/png": "[encoded data removed]",
      "text/plain": [
       "<Figure size 360x360 with 1 Axes>"
      ]
     },
     "metadata": {
      "needs_background": "light"
     },
     "output_type": "display_data"
    }
   ],
   "source": [
    "#fig, ax = plt.subplots(figsize=(10, 8))\n",
    "sns.displot(df.YOJ)\n",
    "#bunu da hepsine yapabilirsin"
   ]
  },
  {
   "cell_type": "markdown",
   "id": "5e44cf67",
   "metadata": {},
   "source": [
    "Missing Value İmputation"
   ]
  },
  {
   "cell_type": "code",
   "execution_count": 12,
   "id": "8d6cd108",
   "metadata": {},
   "outputs": [
    {
     "data": {
      "text/plain": [
       "BAD          0\n",
       "LOAN         0\n",
       "MORTDUE      0\n",
       "VALUE        0\n",
       "REASON     252\n",
       "JOB        279\n",
       "YOJ          0\n",
       "DEROG        0\n",
       "DELINQ       0\n",
       "CLAGE        0\n",
       "NINQ         0\n",
       "CLNO         0\n",
       "DEBTINC      0\n",
       "dtype: int64"
      ]
     },
     "execution_count": 12,
     "metadata": {},
     "output_type": "execute_result"
    }
   ],
   "source": [
    "df['MORTDUE']=df['MORTDUE'].fillna(df['MORTDUE'].mean())\n",
    "df['YOJ']=df['YOJ'].fillna(df['YOJ'].mean())\n",
    "df['DEROG']=df['DEROG'].fillna(df['DEROG'].mean())\n",
    "df['DELINQ']=df['DELINQ'].fillna(df['DELINQ'].mean())\n",
    "df['NINQ']=df['NINQ'].fillna(df['NINQ'].mean())\n",
    "df['DEBTINC']=df['DEBTINC'].fillna(df['DEBTINC'].mean())\n",
    "df['VALUE']=df['VALUE'].fillna(df['VALUE'].mean())\n",
    "df['CLAGE']=df['CLAGE'].fillna(df['CLAGE'].mean())\n",
    "df['CLNO']=df['CLNO'].fillna(df['CLNO'].mean())\n",
    "df.isna().sum()"
   ]
  },
  {
   "cell_type": "code",
   "execution_count": 13,
   "id": "abe3d632",
   "metadata": {},
   "outputs": [
    {
     "data": {
      "text/plain": [
       "BAD        0\n",
       "LOAN       0\n",
       "MORTDUE    0\n",
       "VALUE      0\n",
       "REASON     0\n",
       "JOB        0\n",
       "YOJ        0\n",
       "DEROG      0\n",
       "DELINQ     0\n",
       "CLAGE      0\n",
       "NINQ       0\n",
       "CLNO       0\n",
       "DEBTINC    0\n",
       "dtype: int64"
      ]
     },
     "execution_count": 13,
     "metadata": {},
     "output_type": "execute_result"
    }
   ],
   "source": [
    "df['JOB'] = df['JOB'].fillna(df['JOB'].mode()[0])\n",
    "df['REASON'] = df['REASON'].fillna(df['REASON'].mode()[0])\n",
    "df.isna().sum()"
   ]
  },
  {
   "cell_type": "code",
   "execution_count": 14,
   "id": "100247c1",
   "metadata": {},
   "outputs": [
    {
     "data": {
      "text/html": [
       "<div>\n",
       "<style scoped>\n",
       "    .dataframe tbody tr th:only-of-type {\n",
       "        vertical-align: middle;\n",
       "    }\n",
       "\n",
       "    .dataframe tbody tr th {\n",
       "        vertical-align: top;\n",
       "    }\n",
       "\n",
       "    .dataframe thead th {\n",
       "        text-align: right;\n",
       "    }\n",
       "</style>\n",
       "<table border=\"1\" class=\"dataframe\">\n",
       "  <thead>\n",
       "    <tr style=\"text-align: right;\">\n",
       "      <th></th>\n",
       "      <th>BAD</th>\n",
       "      <th>LOAN</th>\n",
       "      <th>MORTDUE</th>\n",
       "      <th>VALUE</th>\n",
       "      <th>REASON</th>\n",
       "      <th>JOB</th>\n",
       "      <th>YOJ</th>\n",
       "      <th>DEROG</th>\n",
       "      <th>DELINQ</th>\n",
       "      <th>CLAGE</th>\n",
       "      <th>NINQ</th>\n",
       "      <th>CLNO</th>\n",
       "      <th>DEBTINC</th>\n",
       "    </tr>\n",
       "  </thead>\n",
       "  <tbody>\n",
       "    <tr>\n",
       "      <th>0</th>\n",
       "      <td>1</td>\n",
       "      <td>1100</td>\n",
       "      <td>25860.0000</td>\n",
       "      <td>39025.000000</td>\n",
       "      <td>HomeImp</td>\n",
       "      <td>Other</td>\n",
       "      <td>10.500000</td>\n",
       "      <td>0.00000</td>\n",
       "      <td>0.000000</td>\n",
       "      <td>94.366667</td>\n",
       "      <td>1.000000</td>\n",
       "      <td>9.000000</td>\n",
       "      <td>33.779915</td>\n",
       "    </tr>\n",
       "    <tr>\n",
       "      <th>1</th>\n",
       "      <td>1</td>\n",
       "      <td>1300</td>\n",
       "      <td>70053.0000</td>\n",
       "      <td>68400.000000</td>\n",
       "      <td>HomeImp</td>\n",
       "      <td>Other</td>\n",
       "      <td>7.000000</td>\n",
       "      <td>0.00000</td>\n",
       "      <td>2.000000</td>\n",
       "      <td>121.833333</td>\n",
       "      <td>0.000000</td>\n",
       "      <td>14.000000</td>\n",
       "      <td>33.779915</td>\n",
       "    </tr>\n",
       "    <tr>\n",
       "      <th>2</th>\n",
       "      <td>1</td>\n",
       "      <td>1500</td>\n",
       "      <td>13500.0000</td>\n",
       "      <td>16700.000000</td>\n",
       "      <td>HomeImp</td>\n",
       "      <td>Other</td>\n",
       "      <td>4.000000</td>\n",
       "      <td>0.00000</td>\n",
       "      <td>0.000000</td>\n",
       "      <td>149.466667</td>\n",
       "      <td>1.000000</td>\n",
       "      <td>10.000000</td>\n",
       "      <td>33.779915</td>\n",
       "    </tr>\n",
       "    <tr>\n",
       "      <th>3</th>\n",
       "      <td>1</td>\n",
       "      <td>1500</td>\n",
       "      <td>73760.8172</td>\n",
       "      <td>101776.048741</td>\n",
       "      <td>DebtCon</td>\n",
       "      <td>Other</td>\n",
       "      <td>8.922268</td>\n",
       "      <td>0.25457</td>\n",
       "      <td>0.449442</td>\n",
       "      <td>179.766275</td>\n",
       "      <td>1.186055</td>\n",
       "      <td>21.296096</td>\n",
       "      <td>33.779915</td>\n",
       "    </tr>\n",
       "    <tr>\n",
       "      <th>4</th>\n",
       "      <td>0</td>\n",
       "      <td>1700</td>\n",
       "      <td>97800.0000</td>\n",
       "      <td>112000.000000</td>\n",
       "      <td>HomeImp</td>\n",
       "      <td>Office</td>\n",
       "      <td>3.000000</td>\n",
       "      <td>0.00000</td>\n",
       "      <td>0.000000</td>\n",
       "      <td>93.333333</td>\n",
       "      <td>0.000000</td>\n",
       "      <td>14.000000</td>\n",
       "      <td>33.779915</td>\n",
       "    </tr>\n",
       "    <tr>\n",
       "      <th>...</th>\n",
       "      <td>...</td>\n",
       "      <td>...</td>\n",
       "      <td>...</td>\n",
       "      <td>...</td>\n",
       "      <td>...</td>\n",
       "      <td>...</td>\n",
       "      <td>...</td>\n",
       "      <td>...</td>\n",
       "      <td>...</td>\n",
       "      <td>...</td>\n",
       "      <td>...</td>\n",
       "      <td>...</td>\n",
       "      <td>...</td>\n",
       "    </tr>\n",
       "    <tr>\n",
       "      <th>5955</th>\n",
       "      <td>0</td>\n",
       "      <td>88900</td>\n",
       "      <td>57264.0000</td>\n",
       "      <td>90185.000000</td>\n",
       "      <td>DebtCon</td>\n",
       "      <td>Other</td>\n",
       "      <td>16.000000</td>\n",
       "      <td>0.00000</td>\n",
       "      <td>0.000000</td>\n",
       "      <td>221.808718</td>\n",
       "      <td>0.000000</td>\n",
       "      <td>16.000000</td>\n",
       "      <td>36.112347</td>\n",
       "    </tr>\n",
       "    <tr>\n",
       "      <th>5956</th>\n",
       "      <td>0</td>\n",
       "      <td>89000</td>\n",
       "      <td>54576.0000</td>\n",
       "      <td>92937.000000</td>\n",
       "      <td>DebtCon</td>\n",
       "      <td>Other</td>\n",
       "      <td>16.000000</td>\n",
       "      <td>0.00000</td>\n",
       "      <td>0.000000</td>\n",
       "      <td>208.692070</td>\n",
       "      <td>0.000000</td>\n",
       "      <td>15.000000</td>\n",
       "      <td>35.859971</td>\n",
       "    </tr>\n",
       "    <tr>\n",
       "      <th>5957</th>\n",
       "      <td>0</td>\n",
       "      <td>89200</td>\n",
       "      <td>54045.0000</td>\n",
       "      <td>92924.000000</td>\n",
       "      <td>DebtCon</td>\n",
       "      <td>Other</td>\n",
       "      <td>15.000000</td>\n",
       "      <td>0.00000</td>\n",
       "      <td>0.000000</td>\n",
       "      <td>212.279697</td>\n",
       "      <td>0.000000</td>\n",
       "      <td>15.000000</td>\n",
       "      <td>35.556590</td>\n",
       "    </tr>\n",
       "    <tr>\n",
       "      <th>5958</th>\n",
       "      <td>0</td>\n",
       "      <td>89800</td>\n",
       "      <td>50370.0000</td>\n",
       "      <td>91861.000000</td>\n",
       "      <td>DebtCon</td>\n",
       "      <td>Other</td>\n",
       "      <td>14.000000</td>\n",
       "      <td>0.00000</td>\n",
       "      <td>0.000000</td>\n",
       "      <td>213.892709</td>\n",
       "      <td>0.000000</td>\n",
       "      <td>16.000000</td>\n",
       "      <td>34.340882</td>\n",
       "    </tr>\n",
       "    <tr>\n",
       "      <th>5959</th>\n",
       "      <td>0</td>\n",
       "      <td>89900</td>\n",
       "      <td>48811.0000</td>\n",
       "      <td>88934.000000</td>\n",
       "      <td>DebtCon</td>\n",
       "      <td>Other</td>\n",
       "      <td>15.000000</td>\n",
       "      <td>0.00000</td>\n",
       "      <td>0.000000</td>\n",
       "      <td>219.601002</td>\n",
       "      <td>0.000000</td>\n",
       "      <td>16.000000</td>\n",
       "      <td>34.571519</td>\n",
       "    </tr>\n",
       "  </tbody>\n",
       "</table>\n",
       "<p>5960 rows × 13 columns</p>\n",
       "</div>"
      ],
      "text/plain": [
       "      BAD   LOAN     MORTDUE          VALUE   REASON     JOB        YOJ  \\\n",
       "0       1   1100  25860.0000   39025.000000  HomeImp   Other  10.500000   \n",
       "1       1   1300  70053.0000   68400.000000  HomeImp   Other   7.000000   \n",
       "2       1   1500  13500.0000   16700.000000  HomeImp   Other   4.000000   \n",
       "3       1   1500  73760.8172  101776.048741  DebtCon   Other   8.922268   \n",
       "4       0   1700  97800.0000  112000.000000  HomeImp  Office   3.000000   \n",
       "...   ...    ...         ...            ...      ...     ...        ...   \n",
       "5955    0  88900  57264.0000   90185.000000  DebtCon   Other  16.000000   \n",
       "5956    0  89000  54576.0000   92937.000000  DebtCon   Other  16.000000   \n",
       "5957    0  89200  54045.0000   92924.000000  DebtCon   Other  15.000000   \n",
       "5958    0  89800  50370.0000   91861.000000  DebtCon   Other  14.000000   \n",
       "5959    0  89900  48811.0000   88934.000000  DebtCon   Other  15.000000   \n",
       "\n",
       "        DEROG    DELINQ       CLAGE      NINQ       CLNO    DEBTINC  \n",
       "0     0.00000  0.000000   94.366667  1.000000   9.000000  33.779915  \n",
       "1     0.00000  2.000000  121.833333  0.000000  14.000000  33.779915  \n",
       "2     0.00000  0.000000  149.466667  1.000000  10.000000  33.779915  \n",
       "3     0.25457  0.449442  179.766275  1.186055  21.296096  33.779915  \n",
       "4     0.00000  0.000000   93.333333  0.000000  14.000000  33.779915  \n",
       "...       ...       ...         ...       ...        ...        ...  \n",
       "5955  0.00000  0.000000  221.808718  0.000000  16.000000  36.112347  \n",
       "5956  0.00000  0.000000  208.692070  0.000000  15.000000  35.859971  \n",
       "5957  0.00000  0.000000  212.279697  0.000000  15.000000  35.556590  \n",
       "5958  0.00000  0.000000  213.892709  0.000000  16.000000  34.340882  \n",
       "5959  0.00000  0.000000  219.601002  0.000000  16.000000  34.571519  \n",
       "\n",
       "[5960 rows x 13 columns]"
      ]
     },
     "execution_count": 14,
     "metadata": {},
     "output_type": "execute_result"
    }
   ],
   "source": [
    "df.drop_duplicates()"
   ]
  },
  {
   "cell_type": "code",
   "execution_count": 15,
   "id": "aa5bcbd1",
   "metadata": {},
   "outputs": [
    {
     "data": {
      "text/plain": [
       "<Figure size 432x288 with 0 Axes>"
      ]
     },
     "metadata": {},
     "output_type": "display_data"
    },
    {
     "data": {
      "image/png": "[encoded data removed]",
      "text/plain": [
       "<Figure size 360x360 with 1 Axes>"
      ]
     },
     "metadata": {
      "needs_background": "light"
     },
     "output_type": "display_data"
    },
    {
     "data": {
      "text/plain": [
       "<Figure size 432x288 with 0 Axes>"
      ]
     },
     "metadata": {},
     "output_type": "display_data"
    },
    {
     "data": {
      "image/png": "[encoded data removed]",
      "text/plain": [
       "<Figure size 360x360 with 1 Axes>"
      ]
     },
     "metadata": {
      "needs_background": "light"
     },
     "output_type": "display_data"
    },
    {
     "data": {
      "text/plain": [
       "<Figure size 432x288 with 0 Axes>"
      ]
     },
     "metadata": {},
     "output_type": "display_data"
    },
    {
     "data": {
      "image/png": "[encoded data removed]",
      "text/plain": [
       "<Figure size 360x360 with 1 Axes>"
      ]
     },
     "metadata": {
      "needs_background": "light"
     },
     "output_type": "display_data"
    },
    {
     "data": {
      "text/plain": [
       "<Figure size 432x288 with 0 Axes>"
      ]
     },
     "metadata": {},
     "output_type": "display_data"
    },
    {
     "data": {
      "image/png": "[encoded data removed]",
      "text/plain": [
       "<Figure size 360x360 with 1 Axes>"
      ]
     },
     "metadata": {
      "needs_background": "light"
     },
     "output_type": "display_data"
    },
    {
     "data": {
      "text/plain": [
       "<Figure size 432x288 with 0 Axes>"
      ]
     },
     "metadata": {},
     "output_type": "display_data"
    },
    {
     "data": {
      "image/png": "[encoded data removed]",
      "text/plain": [
       "<Figure size 360x360 with 1 Axes>"
      ]
     },
     "metadata": {
      "needs_background": "light"
     },
     "output_type": "display_data"
    },
    {
     "data": {
      "text/plain": [
       "<Figure size 432x288 with 0 Axes>"
      ]
     },
     "metadata": {},
     "output_type": "display_data"
    },
    {
     "data": {
      "image/png": "[encoded data removed]",
      "text/plain": [
       "<Figure size 360x360 with 1 Axes>"
      ]
     },
     "metadata": {
      "needs_background": "light"
     },
     "output_type": "display_data"
    },
    {
     "data": {
      "text/plain": [
       "<Figure size 432x288 with 0 Axes>"
      ]
     },
     "metadata": {},
     "output_type": "display_data"
    },
    {
     "data": {
      "image/png": "[encoded data removed]",
      "text/plain": [
       "<Figure size 360x360 with 1 Axes>"
      ]
     },
     "metadata": {
      "needs_background": "light"
     },
     "output_type": "display_data"
    },
    {
     "data": {
      "text/plain": [
       "<Figure size 432x288 with 0 Axes>"
      ]
     },
     "metadata": {},
     "output_type": "display_data"
    },
    {
     "data": {
      "image/png": "[encoded data removed]",
      "text/plain": [
       "<Figure size 360x360 with 1 Axes>"
      ]
     },
     "metadata": {
      "needs_background": "light"
     },
     "output_type": "display_data"
    },
    {
     "data": {
      "text/plain": [
       "<Figure size 432x288 with 0 Axes>"
      ]
     },
     "metadata": {},
     "output_type": "display_data"
    },
    {
     "data": {
      "image/png": "[encoded data removed]",
      "text/plain": [
       "<Figure size 360x360 with 1 Axes>"
      ]
     },
     "metadata": {
      "needs_background": "light"
     },
     "output_type": "display_data"
    },
    {
     "data": {
      "text/plain": [
       "<Figure size 432x288 with 0 Axes>"
      ]
     },
     "metadata": {},
     "output_type": "display_data"
    },
    {
     "data": {
      "image/png": "[encoded data removed]",
      "text/plain": [
       "<Figure size 360x360 with 1 Axes>"
      ]
     },
     "metadata": {
      "needs_background": "light"
     },
     "output_type": "display_data"
    },
    {
     "data": {
      "text/plain": [
       "<Figure size 432x288 with 0 Axes>"
      ]
     },
     "metadata": {},
     "output_type": "display_data"
    },
    {
     "data": {
      "image/png": "[encoded data removed]",
      "text/plain": [
       "<Figure size 360x360 with 1 Axes>"
      ]
     },
     "metadata": {
      "needs_background": "light"
     },
     "output_type": "display_data"
    }
   ],
   "source": [
    "numerical = ['DEROG','DEBTINC','DELINQ','MORTDUE','YOJ','NINQ','CLAGE','CLNO','VALUE','LOAN','BAD']\n",
    "for col in numerical:\n",
    "    x=df[col]\n",
    "    plt.figure()\n",
    "    sns.displot(x, bins = 10)\n",
    "    plt.xticks(rotation = 45)\n",
    "    plt.show()"
   ]
  },
  {
   "cell_type": "code",
   "execution_count": 16,
   "id": "a63d429f",
   "metadata": {},
   "outputs": [],
   "source": [
    "from sklearn.preprocessing import LabelEncoder\n",
    "le = LabelEncoder()\n",
    "df[\"REASON\"] = le.fit_transform(df[\"REASON\"])\n",
    "df[\"JOB\"] = le.fit_transform(df[\"JOB\"])\n"
   ]
  },
  {
   "cell_type": "code",
   "execution_count": 17,
   "id": "0b7b0392",
   "metadata": {
    "scrolled": true
   },
   "outputs": [
    {
     "data": {
      "text/plain": [
       "<AxesSubplot:>"
      ]
     },
     "execution_count": 17,
     "metadata": {},
     "output_type": "execute_result"
    },
    {
     "data": {
      "image/png": "[encoded data removed]",
      "text/plain": [
       "<Figure size 1008x504 with 2 Axes>"
      ]
     },
     "metadata": {
      "needs_background": "light"
     },
     "output_type": "display_data"
    }
   ],
   "source": [
    "df.corr()\n",
    "plt.figure(figsize=(14,7))\n",
    "sns.heatmap(df.corr(),annot=True,cmap='coolwarm')"
   ]
  },
  {
   "cell_type": "code",
   "execution_count": 18,
   "id": "f109a998",
   "metadata": {},
   "outputs": [],
   "source": [
    "#sns.pairplot(data)\n",
    "#plt.show()"
   ]
  },
  {
   "cell_type": "code",
   "execution_count": 19,
   "id": "c6931676",
   "metadata": {},
   "outputs": [],
   "source": [
    "#korelasyon hesabı yapıyor https://www.youtube.com/watch?v=08c1Tccc6yI&ab_channel=VeriBilimiOkulu"
   ]
  },
  {
   "cell_type": "code",
   "execution_count": 20,
   "id": "9c949d1a",
   "metadata": {},
   "outputs": [
    {
     "data": {
      "image/png": "[encoded data removed]",
      "text/plain": [
       "<Figure size 1440x576 with 10 Axes>"
      ]
     },
     "metadata": {
      "needs_background": "light"
     },
     "output_type": "display_data"
    }
   ],
   "source": [
    "fig, (ax1, ax2, ax3, ax4, ax5, ax6,  ax7, ax8, ax9,ax10) = plt.subplots(1, 10, figsize = (20, 8))\n",
    " \n",
    "ax1.hist(df[\"LOAN\"])\n",
    "ax1.set_title(\"LOAN\")\n",
    " \n",
    "ax2.hist(df[\"VALUE\"])\n",
    "ax2.set_title(\"VALUE\")\n",
    " \n",
    "ax3.hist(df[\"YOJ\"])\n",
    "ax3.set_title(\"YOJ\")\n",
    "\n",
    "ax4.hist(df[\"DEROG\"])\n",
    "ax4.set_title(\"DEROG\")\n",
    " \n",
    "ax5.hist(df[\"DEBTINC\"])\n",
    "ax5.set_title(\"DEBTINC\")\n",
    " \n",
    "ax6.hist(df[\"DELINQ\"])\n",
    "ax6.set_title(\"DELINQ\")\n",
    "\n",
    "ax7.hist(df[\"MORTDUE\"])\n",
    "ax7.set_title(\"MORTDUE\")\n",
    " \n",
    "ax8.hist(df[\"NINQ\"])\n",
    "ax8.set_title(\"NINQ\")\n",
    " \n",
    "ax9.hist(df[\"CLAGE\"])\n",
    "ax9.set_title(\"CLAGE\")\n",
    "\n",
    "ax10.hist(df[\"CLNO\"])\n",
    "ax10.set_title(\"CLNO\")\n",
    " \n",
    "\n",
    "plt.show()"
   ]
  },
  {
   "cell_type": "code",
   "execution_count": 21,
   "id": "6a960465",
   "metadata": {
    "scrolled": true
   },
   "outputs": [
    {
     "data": {
      "text/html": [
       "<div>\n",
       "<style scoped>\n",
       "    .dataframe tbody tr th:only-of-type {\n",
       "        vertical-align: middle;\n",
       "    }\n",
       "\n",
       "    .dataframe tbody tr th {\n",
       "        vertical-align: top;\n",
       "    }\n",
       "\n",
       "    .dataframe thead th {\n",
       "        text-align: right;\n",
       "    }\n",
       "</style>\n",
       "<table border=\"1\" class=\"dataframe\">\n",
       "  <thead>\n",
       "    <tr style=\"text-align: right;\">\n",
       "      <th></th>\n",
       "      <th>sub</th>\n",
       "      <th>values</th>\n",
       "    </tr>\n",
       "  </thead>\n",
       "  <tbody>\n",
       "    <tr>\n",
       "      <th>0</th>\n",
       "      <td>IQR</td>\n",
       "      <td>12200.000000</td>\n",
       "    </tr>\n",
       "    <tr>\n",
       "      <th>1</th>\n",
       "      <td>Upper Bound</td>\n",
       "      <td>41600.000000</td>\n",
       "    </tr>\n",
       "    <tr>\n",
       "      <th>2</th>\n",
       "      <td>Lower Bound</td>\n",
       "      <td>-7200.000000</td>\n",
       "    </tr>\n",
       "    <tr>\n",
       "      <th>3</th>\n",
       "      <td>Sum outliers</td>\n",
       "      <td>256.000000</td>\n",
       "    </tr>\n",
       "    <tr>\n",
       "      <th>4</th>\n",
       "      <td>percentage outliers</td>\n",
       "      <td>4.295302</td>\n",
       "    </tr>\n",
       "  </tbody>\n",
       "</table>\n",
       "</div>"
      ],
      "text/plain": [
       "                   sub        values\n",
       "0                  IQR  12200.000000\n",
       "1          Upper Bound  41600.000000\n",
       "2          Lower Bound  -7200.000000\n",
       "3         Sum outliers    256.000000\n",
       "4  percentage outliers      4.295302"
      ]
     },
     "execution_count": 21,
     "metadata": {},
     "output_type": "execute_result"
    }
   ],
   "source": [
    "import numpy as np\n",
    "import pandas as pd\n",
    "def outliers(s):\n",
    "    iqr = (np.quantile(s, 0.75))-(np.quantile(s, 0.25))\n",
    "    upper_bound = np.quantile(s, 0.75)+(1.5*iqr)\n",
    "    lower_bound = np.quantile(s, 0.25)-(1.5*iqr)\n",
    "    f = []\n",
    "    for i in s:\n",
    "        if i > upper_bound:\n",
    "            f.append(i)\n",
    "        elif i < lower_bound:\n",
    "            f.append(i)\n",
    "    sums = len(f)\n",
    "    pros = len(f)/len(s)*100\n",
    "    d = {'IQR':iqr,\n",
    "         'Upper Bound':upper_bound,\n",
    "        'Lower Bound':lower_bound,\n",
    "        'Sum outliers': sums,'percentage outliers':pros}\n",
    "    d = pd.DataFrame(d.items(),columns = ['sub','values'])\n",
    "    \n",
    "    return(d)\n",
    "    \n",
    "outliers(df['LOAN'])\n"
   ]
  },
  {
   "cell_type": "code",
   "execution_count": 22,
   "id": "828cbfe0",
   "metadata": {},
   "outputs": [
    {
     "data": {
      "text/html": [
       "<div>\n",
       "<style scoped>\n",
       "    .dataframe tbody tr th:only-of-type {\n",
       "        vertical-align: middle;\n",
       "    }\n",
       "\n",
       "    .dataframe tbody tr th {\n",
       "        vertical-align: top;\n",
       "    }\n",
       "\n",
       "    .dataframe thead th {\n",
       "        text-align: right;\n",
       "    }\n",
       "</style>\n",
       "<table border=\"1\" class=\"dataframe\">\n",
       "  <thead>\n",
       "    <tr style=\"text-align: right;\">\n",
       "      <th></th>\n",
       "      <th>sub</th>\n",
       "      <th>values</th>\n",
       "    </tr>\n",
       "  </thead>\n",
       "  <tbody>\n",
       "    <tr>\n",
       "      <th>0</th>\n",
       "      <td>IQR</td>\n",
       "      <td>12200.000000</td>\n",
       "    </tr>\n",
       "    <tr>\n",
       "      <th>1</th>\n",
       "      <td>Upper Bound</td>\n",
       "      <td>41600.000000</td>\n",
       "    </tr>\n",
       "    <tr>\n",
       "      <th>2</th>\n",
       "      <td>Lower Bound</td>\n",
       "      <td>-7200.000000</td>\n",
       "    </tr>\n",
       "    <tr>\n",
       "      <th>3</th>\n",
       "      <td>Sum outliers</td>\n",
       "      <td>256.000000</td>\n",
       "    </tr>\n",
       "    <tr>\n",
       "      <th>4</th>\n",
       "      <td>percentage outliers</td>\n",
       "      <td>4.295302</td>\n",
       "    </tr>\n",
       "  </tbody>\n",
       "</table>\n",
       "</div>"
      ],
      "text/plain": [
       "                   sub        values\n",
       "0                  IQR  12200.000000\n",
       "1          Upper Bound  41600.000000\n",
       "2          Lower Bound  -7200.000000\n",
       "3         Sum outliers    256.000000\n",
       "4  percentage outliers      4.295302"
      ]
     },
     "execution_count": 22,
     "metadata": {},
     "output_type": "execute_result"
    }
   ],
   "source": [
    "outliers(df['LOAN'])"
   ]
  },
  {
   "cell_type": "code",
   "execution_count": 23,
   "id": "e4c9cbb0",
   "metadata": {},
   "outputs": [],
   "source": [
    "#https://machinelearningmastery.com/tutorial-first-neural-network-python-keras/"
   ]
  },
  {
   "cell_type": "code",
   "execution_count": 24,
   "id": "77050293",
   "metadata": {},
   "outputs": [
    {
     "name": "stdout",
     "output_type": "stream",
     "text": [
      "1433 247 547 308 211 177 66 219 347 256\n"
     ]
    }
   ],
   "source": [
    "def iqr(df,var):\n",
    "    q1 = np.quantile(df[var], 0.25)\n",
    "    q3 = np.quantile(df[var], 0.75)\n",
    "    diff = q3 - q1\n",
    "    lower_t = q1 - (1.5 * diff)\n",
    "    upper_t = q3 + (1.5 * diff)\n",
    "    return df[(df[var] < lower_t) | (df[var] > upper_t)]\n",
    "\n",
    "derog = iqr(df, \"DEROG\")\n",
    "debtinc = iqr(df, \"DEBTINC\")\n",
    "delinq = iqr(df, \"DELINQ\")\n",
    "mortdue = iqr(df, \"MORTDUE\")\n",
    "yoj = iqr(df, \"YOJ\")\n",
    "ninq = iqr(df, \"NINQ\")\n",
    "clage = iqr(df, \"CLAGE\")\n",
    "clno = iqr(df, \"CLNO\")\n",
    "value = iqr(df, \"VALUE\")\n",
    "loan = iqr(df, \"LOAN\")\n",
    "\n",
    "print(len(derog), len(debtinc), len(delinq), len(mortdue), len(yoj), len(ninq),len(clage), len(clno), len(value), len(loan))"
   ]
  },
  {
   "cell_type": "code",
   "execution_count": 25,
   "id": "eac48dc3",
   "metadata": {},
   "outputs": [],
   "source": [
    "numerical = ['DEROG','DEBTINC','DELINQ','MORTDUE','YOJ','NINQ','CLAGE','CLNO','VALUE','LOAN']\n",
    "def outlier(col):\n",
    "    iqr = (np.quantile(df[col], 0.75))-(np.quantile(df[col], 0.25))\n",
    "    upper_bound = np.quantile(df[col], 0.75)+(1.5*iqr)\n",
    "    lower_bound = np.quantile(df[col], 0.25)-(1.5*iqr)\n",
    "    df[col] = np.where(df[col] > upper_bound,\n",
    "                                   upper_bound,df[col]) #higher\n",
    "    df[col] = np.where(df[col] < lower_bound, \n",
    "                                   lower_bound,df[col])\n",
    "    \n",
    "outlier('DEROG')"
   ]
  },
  {
   "cell_type": "code",
   "execution_count": 26,
   "id": "ab72712b",
   "metadata": {},
   "outputs": [],
   "source": [
    "outlier('DEBTINC')"
   ]
  },
  {
   "cell_type": "code",
   "execution_count": 27,
   "id": "32881ce3",
   "metadata": {},
   "outputs": [],
   "source": [
    "outlier('DELINQ')"
   ]
  },
  {
   "cell_type": "code",
   "execution_count": 28,
   "id": "c679193d",
   "metadata": {},
   "outputs": [],
   "source": [
    "outlier('MORTDUE')"
   ]
  },
  {
   "cell_type": "code",
   "execution_count": 29,
   "id": "5b1e6a4b",
   "metadata": {},
   "outputs": [],
   "source": [
    "outlier('YOJ')"
   ]
  },
  {
   "cell_type": "code",
   "execution_count": 30,
   "id": "a3254368",
   "metadata": {},
   "outputs": [],
   "source": [
    "outlier('NINQ')"
   ]
  },
  {
   "cell_type": "code",
   "execution_count": 31,
   "id": "c63e86e3",
   "metadata": {},
   "outputs": [],
   "source": [
    "outlier('CLAGE')"
   ]
  },
  {
   "cell_type": "code",
   "execution_count": 32,
   "id": "2cce0b62",
   "metadata": {},
   "outputs": [],
   "source": [
    "outlier('CLNO')"
   ]
  },
  {
   "cell_type": "code",
   "execution_count": 33,
   "id": "51a777af",
   "metadata": {},
   "outputs": [],
   "source": [
    "outlier('VALUE')"
   ]
  },
  {
   "cell_type": "code",
   "execution_count": 34,
   "id": "f805852b",
   "metadata": {},
   "outputs": [],
   "source": [
    "outlier('LOAN')"
   ]
  },
  {
   "cell_type": "code",
   "execution_count": 35,
   "id": "1a334b49",
   "metadata": {},
   "outputs": [],
   "source": [
    "x=df.drop(columns=['BAD'],axis=1)\n",
    "y=df['BAD']"
   ]
  },
  {
   "cell_type": "code",
   "execution_count": 36,
   "id": "a93d8c2e",
   "metadata": {},
   "outputs": [],
   "source": [
    "from sklearn.model_selection import train_test_split\n",
    "x_train, x_test, y_train, y_test = train_test_split(x, y, test_size = 0.2, random_state= 1 )"
   ]
  },
  {
   "cell_type": "code",
   "execution_count": 37,
   "id": "9ac5ac47",
   "metadata": {},
   "outputs": [],
   "source": [
    "from sklearn.preprocessing import StandardScaler\n",
    "sc_X = StandardScaler()\n",
    "x_train = sc_X.fit_transform(x_train)\n",
    "x_test = sc_X.transform(x_test)"
   ]
  },
  {
   "cell_type": "markdown",
   "id": "1996b422",
   "metadata": {},
   "source": [
    "# Veri Setinin Kopyasının Alınması"
   ]
  },
  {
   "cell_type": "code",
   "execution_count": 38,
   "id": "b103d2bc",
   "metadata": {},
   "outputs": [],
   "source": [
    "ANN_X_train = x_train.copy()\n",
    "ANN_X_test = x_test.copy()\n",
    "\n",
    "DT_X_train = x_train.copy()\n",
    "DT_X_test = x_test.copy()\n",
    "\n",
    "xgboost_X_train = x_train.copy()\n",
    "xgboost_X_test = x_test.copy()\n",
    "\n",
    "svm_X_train = x_train.copy()\n",
    "svm_X_test = x_test.copy()\n",
    "\n",
    "kn_X_train = x_train.copy()\n",
    "kn_X_test = x_test.copy()\n",
    "\n",
    "k_means_X_train = x_train.copy()\n",
    "k_means_X_test = x_test.copy()\n",
    "\n",
    "naive_bayes_X_train = x_train.copy()\n",
    "naive_bayes_X_test = x_test.copy()"
   ]
  },
  {
   "cell_type": "markdown",
   "id": "ebe94bce",
   "metadata": {},
   "source": [
    "# Decision Tree"
   ]
  },
  {
   "cell_type": "code",
   "execution_count": 39,
   "id": "a36ce12a",
   "metadata": {},
   "outputs": [],
   "source": [
    "from sklearn.preprocessing import StandardScaler\n",
    "from sklearn.tree import DecisionTreeClassifier\n",
    "from sklearn import metrics\n",
    "sc = StandardScaler()\n",
    "x_train = sc.fit_transform(DT_X_train)\n",
    "x_test = sc.transform(DT_X_test)"
   ]
  },
  {
   "cell_type": "code",
   "execution_count": 40,
   "id": "9156da38",
   "metadata": {},
   "outputs": [
    {
     "data": {
      "text/plain": [
       "86.66107382550335"
      ]
     },
     "execution_count": 40,
     "metadata": {},
     "output_type": "execute_result"
    }
   ],
   "source": [
    "# Create Decision Tree classifer object\n",
    "clf = DecisionTreeClassifier()\n",
    "# Train Decision Tree Classifer\n",
    "clf = clf.fit(x_train,y_train)\n",
    "#Predict the response for test dataset\n",
    "y_pred = clf.predict(x_test)\n",
    "dt_accuracy = metrics.accuracy_score(y_test, y_pred)*100\n",
    "dt_accuracy"
   ]
  },
  {
   "cell_type": "markdown",
   "id": "85ffd848",
   "metadata": {},
   "source": [
    "# XGBoost"
   ]
  },
  {
   "cell_type": "code",
   "execution_count": 41,
   "id": "638a0cda",
   "metadata": {},
   "outputs": [],
   "source": [
    "from xgboost import XGBClassifier\n",
    "from sklearn.model_selection import train_test_split\n",
    "from sklearn.metrics import accuracy_score"
   ]
  },
  {
   "cell_type": "code",
   "execution_count": 42,
   "id": "b57544a5",
   "metadata": {},
   "outputs": [
    {
     "name": "stdout",
     "output_type": "stream",
     "text": [
      "[[ 0.38635677  2.24763959  0.07972013 ... -0.84647161  2.32260142\n",
      "   0.70921735]\n",
      " [ 0.36471765  2.09824817  1.96541704 ... -0.84647161 -0.44442286\n",
      "   1.5672875 ]\n",
      " [ 1.53323009 -1.58977906 -0.86129498 ... -0.08572483 -1.74655193\n",
      "   0.70654677]\n",
      " ...\n",
      " [ 1.04634991  0.08190008 -1.26279701 ...  0.05581595 -0.87846588\n",
      "  -2.29362077]\n",
      " [ 1.10044771  0.14728615  0.7044338  ... -0.84647161  0.20664168\n",
      "   0.43526619]\n",
      " [ 0.61356752  0.08190008 -0.44051415 ... -0.84647161  0.31515244\n",
      "  -1.3781882 ]]\n"
     ]
    }
   ],
   "source": [
    "model = XGBClassifier(use_label_encoder=False, eval_metric='mlogloss')\n",
    "print(xgboost_X_test)"
   ]
  },
  {
   "cell_type": "code",
   "execution_count": 43,
   "id": "00c3d84c",
   "metadata": {},
   "outputs": [
    {
     "data": {
      "text/plain": [
       "XGBClassifier(base_score=0.5, booster='gbtree', colsample_bylevel=1,\n",
       "              colsample_bynode=1, colsample_bytree=1, enable_categorical=False,\n",
       "              eval_metric='mlogloss', gamma=0, gpu_id=-1, importance_type=None,\n",
       "              interaction_constraints='', learning_rate=0.300000012,\n",
       "              max_delta_step=0, max_depth=6, min_child_weight=1, missing=nan,\n",
       "              monotone_constraints='()', n_estimators=100, n_jobs=8,\n",
       "              num_parallel_tree=1, predictor='auto', random_state=0,\n",
       "              reg_alpha=0, reg_lambda=1, scale_pos_weight=1, subsample=1,\n",
       "              tree_method='exact', use_label_encoder=False,\n",
       "              validate_parameters=1, verbosity=None)"
      ]
     },
     "execution_count": 43,
     "metadata": {},
     "output_type": "execute_result"
    }
   ],
   "source": [
    "model.fit(xgboost_X_train, y_train)"
   ]
  },
  {
   "cell_type": "code",
   "execution_count": 44,
   "id": "2d851ddd",
   "metadata": {},
   "outputs": [
    {
     "data": {
      "text/plain": [
       "array([1, 0, 0, ..., 0, 0, 0])"
      ]
     },
     "execution_count": 44,
     "metadata": {},
     "output_type": "execute_result"
    }
   ],
   "source": [
    "y_pred = model.predict(xgboost_X_test)\n",
    "y_pred"
   ]
  },
  {
   "cell_type": "code",
   "execution_count": 45,
   "id": "72d2fa6e",
   "metadata": {},
   "outputs": [
    {
     "data": {
      "text/plain": [
       "91.19127516778524"
      ]
     },
     "execution_count": 45,
     "metadata": {},
     "output_type": "execute_result"
    }
   ],
   "source": [
    "xgboost_accuracy = accuracy_score(y_test, y_pred)*100\n",
    "xgboost_accuracy"
   ]
  },
  {
   "cell_type": "markdown",
   "id": "83b80d66",
   "metadata": {},
   "source": [
    "# Support Vector Machine"
   ]
  },
  {
   "cell_type": "code",
   "execution_count": 46,
   "id": "897b8313",
   "metadata": {},
   "outputs": [],
   "source": [
    "from sklearn.svm import SVC\n",
    "from sklearn.metrics import accuracy_score\n",
    "\n",
    "clf = SVC(kernel='linear')\n",
    "clf.fit(svm_X_train,y_train)\n",
    "y_pred = clf.predict(svm_X_test)"
   ]
  },
  {
   "cell_type": "code",
   "execution_count": 47,
   "id": "01ec029c",
   "metadata": {},
   "outputs": [
    {
     "data": {
      "text/plain": [
       "79.19463087248322"
      ]
     },
     "execution_count": 47,
     "metadata": {},
     "output_type": "execute_result"
    }
   ],
   "source": [
    "svm_accuracy = accuracy_score(y_test,y_pred)*100\n",
    "svm_accuracy"
   ]
  },
  {
   "cell_type": "markdown",
   "id": "88a4f61e",
   "metadata": {},
   "source": [
    "# k-nearest neighbor"
   ]
  },
  {
   "cell_type": "code",
   "execution_count": 48,
   "id": "bd23d1b9",
   "metadata": {},
   "outputs": [
    {
     "data": {
      "text/plain": [
       "87.5"
      ]
     },
     "execution_count": 48,
     "metadata": {},
     "output_type": "execute_result"
    }
   ],
   "source": [
    "from sklearn import metrics\n",
    "from sklearn.neighbors import KNeighborsClassifier\n",
    "knn = KNeighborsClassifier(n_neighbors=4)\n",
    "knn.fit(kn_X_train,y_train)\n",
    "y_pred = knn.predict(kn_X_test)\n",
    "knn_accuracy = metrics.accuracy_score(y_test, y_pred)*100\n",
    "knn_accuracy"
   ]
  },
  {
   "cell_type": "markdown",
   "id": "8b8129df",
   "metadata": {},
   "source": [
    "# Naive Bayes"
   ]
  },
  {
   "cell_type": "code",
   "execution_count": 49,
   "id": "cc744c0d",
   "metadata": {},
   "outputs": [
    {
     "name": "stdout",
     "output_type": "stream",
     "text": [
      "Accuracy: 79.61409395973155\n"
     ]
    }
   ],
   "source": [
    "from sklearn.naive_bayes import GaussianNB\n",
    "from sklearn import metrics\n",
    "\n",
    "classifier = GaussianNB()\n",
    "classifier.fit(naive_bayes_X_train, y_train)\n",
    "y_pred = classifier.predict(naive_bayes_X_test)\n",
    "\n",
    "print(\"Accuracy:\",metrics.accuracy_score(y_test, y_pred)*100)"
   ]
  },
  {
   "cell_type": "markdown",
   "id": "7fa1ae4f",
   "metadata": {},
   "source": [
    "# ANN Training\n"
   ]
  },
  {
   "cell_type": "code",
   "execution_count": 50,
   "id": "a0a5555f",
   "metadata": {
    "scrolled": false
   },
   "outputs": [
    {
     "name": "stdout",
     "output_type": "stream",
     "text": [
      "Epoch 1/150\n",
      "477/477 [==============================] - 2s 2ms/step - loss: 0.5151 - accuracy: 0.7984\n",
      "Epoch 2/150\n",
      "477/477 [==============================] - 1s 2ms/step - loss: 0.4341 - accuracy: 0.8142\n",
      "Epoch 3/150\n",
      "477/477 [==============================] - 1s 2ms/step - loss: 0.4183 - accuracy: 0.8205\n",
      "Epoch 4/150\n",
      "477/477 [==============================] - 1s 2ms/step - loss: 0.4104 - accuracy: 0.8272\n",
      "Epoch 5/150\n",
      "477/477 [==============================] - 1s 2ms/step - loss: 0.4058 - accuracy: 0.8278\n",
      "Epoch 6/150\n",
      "477/477 [==============================] - 1s 2ms/step - loss: 0.4007 - accuracy: 0.8324\n",
      "Epoch 7/150\n",
      "477/477 [==============================] - 1s 2ms/step - loss: 0.3958 - accuracy: 0.8322\n",
      "Epoch 8/150\n",
      "477/477 [==============================] - 1s 2ms/step - loss: 0.3914 - accuracy: 0.8349\n",
      "Epoch 9/150\n",
      "477/477 [==============================] - 1s 2ms/step - loss: 0.3862 - accuracy: 0.8412\n",
      "Epoch 10/150\n",
      "477/477 [==============================] - 1s 2ms/step - loss: 0.3810 - accuracy: 0.8427\n",
      "Epoch 11/150\n",
      "477/477 [==============================] - 1s 2ms/step - loss: 0.3761 - accuracy: 0.8456\n",
      "Epoch 12/150\n",
      "477/477 [==============================] - 1s 2ms/step - loss: 0.3723 - accuracy: 0.8454\n",
      "Epoch 13/150\n",
      "477/477 [==============================] - 1s 2ms/step - loss: 0.3690 - accuracy: 0.8486\n",
      "Epoch 14/150\n",
      "477/477 [==============================] - 1s 2ms/step - loss: 0.3653 - accuracy: 0.8517\n",
      "Epoch 15/150\n",
      "477/477 [==============================] - 1s 2ms/step - loss: 0.3613 - accuracy: 0.8503\n",
      "Epoch 16/150\n",
      "477/477 [==============================] - 1s 2ms/step - loss: 0.3579 - accuracy: 0.8534\n",
      "Epoch 17/150\n",
      "477/477 [==============================] - 1s 2ms/step - loss: 0.3541 - accuracy: 0.8563\n",
      "Epoch 18/150\n",
      "477/477 [==============================] - 1s 2ms/step - loss: 0.3501 - accuracy: 0.8570\n",
      "Epoch 19/150\n",
      "477/477 [==============================] - 1s 2ms/step - loss: 0.3461 - accuracy: 0.8563\n",
      "Epoch 20/150\n",
      "477/477 [==============================] - 1s 2ms/step - loss: 0.3420 - accuracy: 0.8582\n",
      "Epoch 21/150\n",
      "477/477 [==============================] - 1s 2ms/step - loss: 0.3386 - accuracy: 0.8601\n",
      "Epoch 22/150\n",
      "477/477 [==============================] - 1s 2ms/step - loss: 0.3345 - accuracy: 0.8633\n",
      "Epoch 23/150\n",
      "477/477 [==============================] - 1s 2ms/step - loss: 0.3318 - accuracy: 0.8656\n",
      "Epoch 24/150\n",
      "477/477 [==============================] - 1s 2ms/step - loss: 0.3284 - accuracy: 0.8654\n",
      "Epoch 25/150\n",
      "477/477 [==============================] - 1s 2ms/step - loss: 0.3245 - accuracy: 0.8704\n",
      "Epoch 26/150\n",
      "477/477 [==============================] - 1s 2ms/step - loss: 0.3211 - accuracy: 0.8693\n",
      "Epoch 27/150\n",
      "477/477 [==============================] - 1s 2ms/step - loss: 0.3182 - accuracy: 0.8725\n",
      "Epoch 28/150\n",
      "477/477 [==============================] - 1s 2ms/step - loss: 0.3152 - accuracy: 0.8735\n",
      "Epoch 29/150\n",
      "477/477 [==============================] - 1s 2ms/step - loss: 0.3123 - accuracy: 0.8729\n",
      "Epoch 30/150\n",
      "477/477 [==============================] - 1s 2ms/step - loss: 0.3093 - accuracy: 0.8748\n",
      "Epoch 31/150\n",
      "477/477 [==============================] - 1s 2ms/step - loss: 0.3065 - accuracy: 0.8769\n",
      "Epoch 32/150\n",
      "477/477 [==============================] - 1s 2ms/step - loss: 0.3042 - accuracy: 0.8788\n",
      "Epoch 33/150\n",
      "477/477 [==============================] - 1s 2ms/step - loss: 0.3014 - accuracy: 0.8792\n",
      "Epoch 34/150\n",
      "477/477 [==============================] - 1s 2ms/step - loss: 0.3001 - accuracy: 0.8807\n",
      "Epoch 35/150\n",
      "477/477 [==============================] - 1s 2ms/step - loss: 0.2970 - accuracy: 0.8800\n",
      "Epoch 36/150\n",
      "477/477 [==============================] - 1s 2ms/step - loss: 0.2951 - accuracy: 0.8809\n",
      "Epoch 37/150\n",
      "477/477 [==============================] - 1s 2ms/step - loss: 0.2933 - accuracy: 0.8844\n",
      "Epoch 38/150\n",
      "477/477 [==============================] - 1s 2ms/step - loss: 0.2911 - accuracy: 0.8846\n",
      "Epoch 39/150\n",
      "477/477 [==============================] - 1s 2ms/step - loss: 0.2903 - accuracy: 0.8815\n",
      "Epoch 40/150\n",
      "477/477 [==============================] - 1s 2ms/step - loss: 0.2897 - accuracy: 0.8851\n",
      "Epoch 41/150\n",
      "477/477 [==============================] - 1s 2ms/step - loss: 0.2875 - accuracy: 0.8855\n",
      "Epoch 42/150\n",
      "477/477 [==============================] - 1s 2ms/step - loss: 0.2863 - accuracy: 0.8832\n",
      "Epoch 43/150\n",
      "477/477 [==============================] - 1s 2ms/step - loss: 0.2851 - accuracy: 0.8853\n",
      "Epoch 44/150\n",
      "477/477 [==============================] - 1s 2ms/step - loss: 0.2851 - accuracy: 0.8870\n",
      "Epoch 45/150\n",
      "477/477 [==============================] - 1s 2ms/step - loss: 0.2841 - accuracy: 0.8872\n",
      "Epoch 46/150\n",
      "477/477 [==============================] - 1s 2ms/step - loss: 0.2825 - accuracy: 0.8888\n",
      "Epoch 47/150\n",
      "477/477 [==============================] - 1s 2ms/step - loss: 0.2814 - accuracy: 0.8899\n",
      "Epoch 48/150\n",
      "477/477 [==============================] - 1s 2ms/step - loss: 0.2808 - accuracy: 0.8882\n",
      "Epoch 49/150\n",
      "477/477 [==============================] - 1s 2ms/step - loss: 0.2800 - accuracy: 0.8884\n",
      "Epoch 50/150\n",
      "477/477 [==============================] - 1s 2ms/step - loss: 0.2786 - accuracy: 0.8884\n",
      "Epoch 51/150\n",
      "477/477 [==============================] - 1s 2ms/step - loss: 0.2783 - accuracy: 0.8901\n",
      "Epoch 52/150\n",
      "477/477 [==============================] - 1s 2ms/step - loss: 0.2778 - accuracy: 0.8916\n",
      "Epoch 53/150\n",
      "477/477 [==============================] - 1s 2ms/step - loss: 0.2760 - accuracy: 0.8897\n",
      "Epoch 54/150\n",
      "477/477 [==============================] - 1s 2ms/step - loss: 0.2768 - accuracy: 0.8891\n",
      "Epoch 55/150\n",
      "477/477 [==============================] - 1s 2ms/step - loss: 0.2757 - accuracy: 0.8924\n",
      "Epoch 56/150\n",
      "477/477 [==============================] - 1s 2ms/step - loss: 0.2748 - accuracy: 0.8901\n",
      "Epoch 57/150\n",
      "477/477 [==============================] - 1s 2ms/step - loss: 0.2750 - accuracy: 0.8914\n",
      "Epoch 58/150\n",
      "477/477 [==============================] - 1s 2ms/step - loss: 0.2733 - accuracy: 0.8920\n",
      "Epoch 59/150\n",
      "477/477 [==============================] - 1s 2ms/step - loss: 0.2738 - accuracy: 0.8935\n",
      "Epoch 60/150\n",
      "477/477 [==============================] - 1s 2ms/step - loss: 0.2733 - accuracy: 0.8909\n",
      "Epoch 61/150\n",
      "477/477 [==============================] - 1s 2ms/step - loss: 0.2737 - accuracy: 0.8922\n",
      "Epoch 62/150\n",
      "477/477 [==============================] - 1s 2ms/step - loss: 0.2726 - accuracy: 0.8928\n",
      "Epoch 63/150\n",
      "477/477 [==============================] - 1s 2ms/step - loss: 0.2730 - accuracy: 0.8937\n",
      "Epoch 64/150\n",
      "477/477 [==============================] - 1s 2ms/step - loss: 0.2708 - accuracy: 0.8935\n",
      "Epoch 65/150\n",
      "477/477 [==============================] - 1s 2ms/step - loss: 0.2707 - accuracy: 0.8953\n",
      "Epoch 66/150\n",
      "477/477 [==============================] - 1s 2ms/step - loss: 0.2707 - accuracy: 0.8937\n",
      "Epoch 67/150\n",
      "477/477 [==============================] - 1s 2ms/step - loss: 0.2700 - accuracy: 0.8935\n",
      "Epoch 68/150\n",
      "477/477 [==============================] - 1s 2ms/step - loss: 0.2690 - accuracy: 0.8966\n",
      "Epoch 69/150\n",
      "477/477 [==============================] - 1s 2ms/step - loss: 0.2685 - accuracy: 0.8964\n",
      "Epoch 70/150\n",
      "477/477 [==============================] - 1s 2ms/step - loss: 0.2689 - accuracy: 0.8949\n",
      "Epoch 71/150\n",
      "477/477 [==============================] - 1s 2ms/step - loss: 0.2678 - accuracy: 0.8943\n",
      "Epoch 72/150\n",
      "477/477 [==============================] - 1s 2ms/step - loss: 0.2671 - accuracy: 0.8958\n",
      "Epoch 73/150\n",
      "477/477 [==============================] - 1s 2ms/step - loss: 0.2677 - accuracy: 0.8937\n",
      "Epoch 74/150\n",
      "477/477 [==============================] - 1s 2ms/step - loss: 0.2676 - accuracy: 0.8962\n",
      "Epoch 75/150\n",
      "477/477 [==============================] - 1s 2ms/step - loss: 0.2656 - accuracy: 0.8956\n",
      "Epoch 76/150\n",
      "477/477 [==============================] - 1s 2ms/step - loss: 0.2667 - accuracy: 0.8953\n",
      "Epoch 77/150\n",
      "477/477 [==============================] - 1s 2ms/step - loss: 0.2663 - accuracy: 0.8964\n",
      "Epoch 78/150\n",
      "477/477 [==============================] - 1s 2ms/step - loss: 0.2650 - accuracy: 0.8983\n",
      "Epoch 79/150\n",
      "477/477 [==============================] - 1s 2ms/step - loss: 0.2651 - accuracy: 0.8966\n",
      "Epoch 80/150\n",
      "477/477 [==============================] - 1s 2ms/step - loss: 0.2649 - accuracy: 0.8951\n",
      "Epoch 81/150\n",
      "477/477 [==============================] - 1s 2ms/step - loss: 0.2652 - accuracy: 0.8972\n",
      "Epoch 82/150\n",
      "477/477 [==============================] - 1s 2ms/step - loss: 0.2644 - accuracy: 0.8958\n",
      "Epoch 83/150\n",
      "477/477 [==============================] - 1s 2ms/step - loss: 0.2644 - accuracy: 0.8962\n",
      "Epoch 84/150\n",
      "477/477 [==============================] - 1s 2ms/step - loss: 0.2634 - accuracy: 0.8991\n",
      "Epoch 85/150\n",
      "477/477 [==============================] - 1s 2ms/step - loss: 0.2632 - accuracy: 0.8987\n",
      "Epoch 86/150\n",
      "477/477 [==============================] - 1s 2ms/step - loss: 0.2634 - accuracy: 0.8953\n",
      "Epoch 87/150\n",
      "477/477 [==============================] - 1s 2ms/step - loss: 0.2636 - accuracy: 0.8977\n",
      "Epoch 88/150\n",
      "477/477 [==============================] - 1s 2ms/step - loss: 0.2628 - accuracy: 0.8968\n",
      "Epoch 89/150\n",
      "477/477 [==============================] - 1s 2ms/step - loss: 0.2634 - accuracy: 0.8979\n",
      "Epoch 90/150\n",
      "477/477 [==============================] - 1s 2ms/step - loss: 0.2621 - accuracy: 0.8964\n",
      "Epoch 91/150\n",
      "477/477 [==============================] - 1s 2ms/step - loss: 0.2628 - accuracy: 0.8979\n",
      "Epoch 92/150\n",
      "477/477 [==============================] - 1s 2ms/step - loss: 0.2619 - accuracy: 0.8997\n",
      "Epoch 93/150\n",
      "477/477 [==============================] - 1s 2ms/step - loss: 0.2617 - accuracy: 0.8966\n",
      "Epoch 94/150\n",
      "477/477 [==============================] - 1s 2ms/step - loss: 0.2616 - accuracy: 0.8981\n",
      "Epoch 95/150\n",
      "477/477 [==============================] - 1s 2ms/step - loss: 0.2618 - accuracy: 0.8974\n",
      "Epoch 96/150\n",
      "477/477 [==============================] - 1s 2ms/step - loss: 0.2606 - accuracy: 0.9004\n",
      "Epoch 97/150\n",
      "477/477 [==============================] - 1s 2ms/step - loss: 0.2611 - accuracy: 0.8981\n",
      "Epoch 98/150\n",
      "477/477 [==============================] - 1s 2ms/step - loss: 0.2595 - accuracy: 0.8960\n",
      "Epoch 99/150\n",
      "477/477 [==============================] - 1s 2ms/step - loss: 0.2615 - accuracy: 0.8987\n",
      "Epoch 100/150\n",
      "477/477 [==============================] - 1s 2ms/step - loss: 0.2602 - accuracy: 0.8977\n",
      "Epoch 101/150\n",
      "477/477 [==============================] - 1s 2ms/step - loss: 0.2606 - accuracy: 0.8987\n",
      "Epoch 102/150\n",
      "477/477 [==============================] - 1s 2ms/step - loss: 0.2595 - accuracy: 0.8983\n",
      "Epoch 103/150\n",
      "477/477 [==============================] - 1s 2ms/step - loss: 0.2602 - accuracy: 0.8991\n",
      "Epoch 104/150\n",
      "477/477 [==============================] - 1s 2ms/step - loss: 0.2592 - accuracy: 0.8987\n",
      "Epoch 105/150\n",
      "477/477 [==============================] - 1s 2ms/step - loss: 0.2592 - accuracy: 0.9000\n",
      "Epoch 106/150\n",
      "477/477 [==============================] - 1s 2ms/step - loss: 0.2594 - accuracy: 0.8981\n",
      "Epoch 107/150\n",
      "477/477 [==============================] - 1s 2ms/step - loss: 0.2586 - accuracy: 0.8981\n",
      "Epoch 108/150\n",
      "477/477 [==============================] - 1s 2ms/step - loss: 0.2587 - accuracy: 0.8979\n",
      "Epoch 109/150\n",
      "477/477 [==============================] - 1s 2ms/step - loss: 0.2600 - accuracy: 0.9002\n",
      "Epoch 110/150\n",
      "477/477 [==============================] - 1s 2ms/step - loss: 0.2586 - accuracy: 0.8997\n",
      "Epoch 111/150\n",
      "477/477 [==============================] - 1s 2ms/step - loss: 0.2580 - accuracy: 0.9021\n",
      "Epoch 112/150\n",
      "477/477 [==============================] - 1s 2ms/step - loss: 0.2586 - accuracy: 0.8981\n",
      "Epoch 113/150\n",
      "477/477 [==============================] - 1s 2ms/step - loss: 0.2574 - accuracy: 0.8987\n",
      "Epoch 114/150\n",
      "477/477 [==============================] - 1s 2ms/step - loss: 0.2584 - accuracy: 0.8981\n",
      "Epoch 115/150\n",
      "477/477 [==============================] - 1s 2ms/step - loss: 0.2569 - accuracy: 0.9016\n",
      "Epoch 116/150\n",
      "477/477 [==============================] - 1s 2ms/step - loss: 0.2568 - accuracy: 0.9018\n",
      "Epoch 117/150\n",
      "477/477 [==============================] - 1s 2ms/step - loss: 0.2570 - accuracy: 0.9006\n",
      "Epoch 118/150\n",
      "477/477 [==============================] - 1s 2ms/step - loss: 0.2571 - accuracy: 0.9018\n",
      "Epoch 119/150\n",
      "477/477 [==============================] - 1s 2ms/step - loss: 0.2565 - accuracy: 0.9021\n",
      "Epoch 120/150\n",
      "477/477 [==============================] - 1s 2ms/step - loss: 0.2571 - accuracy: 0.9000\n",
      "Epoch 121/150\n",
      "477/477 [==============================] - 1s 2ms/step - loss: 0.2563 - accuracy: 0.8981\n",
      "Epoch 122/150\n",
      "477/477 [==============================] - 1s 2ms/step - loss: 0.2556 - accuracy: 0.9008\n",
      "Epoch 123/150\n",
      "477/477 [==============================] - 1s 2ms/step - loss: 0.2554 - accuracy: 0.9012\n",
      "Epoch 124/150\n",
      "477/477 [==============================] - 1s 2ms/step - loss: 0.2561 - accuracy: 0.9002\n",
      "Epoch 125/150\n",
      "477/477 [==============================] - 1s 2ms/step - loss: 0.2557 - accuracy: 0.9002\n",
      "Epoch 126/150\n",
      "477/477 [==============================] - 1s 2ms/step - loss: 0.2547 - accuracy: 0.9027\n",
      "Epoch 127/150\n",
      "477/477 [==============================] - 1s 2ms/step - loss: 0.2552 - accuracy: 0.9010\n",
      "Epoch 128/150\n",
      "477/477 [==============================] - 1s 2ms/step - loss: 0.2555 - accuracy: 0.9010\n",
      "Epoch 129/150\n",
      "477/477 [==============================] - 1s 2ms/step - loss: 0.2550 - accuracy: 0.9029\n",
      "Epoch 130/150\n",
      "477/477 [==============================] - 1s 2ms/step - loss: 0.2550 - accuracy: 0.9014\n",
      "Epoch 131/150\n",
      "477/477 [==============================] - 1s 2ms/step - loss: 0.2544 - accuracy: 0.9006\n",
      "Epoch 132/150\n",
      "477/477 [==============================] - 1s 2ms/step - loss: 0.2544 - accuracy: 0.9012\n",
      "Epoch 133/150\n",
      "477/477 [==============================] - 1s 2ms/step - loss: 0.2535 - accuracy: 0.9014\n",
      "Epoch 134/150\n",
      "477/477 [==============================] - 1s 2ms/step - loss: 0.2547 - accuracy: 0.9004\n",
      "Epoch 135/150\n",
      "477/477 [==============================] - 1s 2ms/step - loss: 0.2548 - accuracy: 0.8997\n",
      "Epoch 136/150\n",
      "477/477 [==============================] - 1s 2ms/step - loss: 0.2545 - accuracy: 0.9016\n",
      "Epoch 137/150\n",
      "477/477 [==============================] - 1s 2ms/step - loss: 0.2539 - accuracy: 0.9018\n",
      "Epoch 138/150\n",
      "477/477 [==============================] - 1s 2ms/step - loss: 0.2547 - accuracy: 0.9010\n",
      "Epoch 139/150\n",
      "477/477 [==============================] - 1s 2ms/step - loss: 0.2550 - accuracy: 0.9018\n",
      "Epoch 140/150\n",
      "477/477 [==============================] - 1s 2ms/step - loss: 0.2544 - accuracy: 0.9006\n",
      "Epoch 141/150\n",
      "477/477 [==============================] - 1s 2ms/step - loss: 0.2532 - accuracy: 0.9016\n",
      "Epoch 142/150\n",
      "477/477 [==============================] - 1s 2ms/step - loss: 0.2540 - accuracy: 0.9010\n",
      "Epoch 143/150\n",
      "477/477 [==============================] - 1s 2ms/step - loss: 0.2551 - accuracy: 0.8989\n",
      "Epoch 144/150\n",
      "477/477 [==============================] - 1s 2ms/step - loss: 0.2533 - accuracy: 0.9010\n",
      "Epoch 145/150\n",
      "477/477 [==============================] - 1s 2ms/step - loss: 0.2526 - accuracy: 0.9012\n",
      "Epoch 146/150\n",
      "477/477 [==============================] - 1s 2ms/step - loss: 0.2531 - accuracy: 0.9018\n",
      "Epoch 147/150\n",
      "477/477 [==============================] - 1s 2ms/step - loss: 0.2531 - accuracy: 0.9002\n",
      "Epoch 148/150\n",
      "477/477 [==============================] - 1s 2ms/step - loss: 0.2528 - accuracy: 0.9027\n",
      "Epoch 149/150\n",
      "477/477 [==============================] - 1s 2ms/step - loss: 0.2537 - accuracy: 0.9008\n",
      "Epoch 150/150\n",
      "477/477 [==============================] - 1s 2ms/step - loss: 0.2527 - accuracy: 0.9025\n",
      "149/149 [==============================] - 0s 2ms/step - loss: 0.2472 - accuracy: 0.9025\n",
      "Accuracy: 90.25\n"
     ]
    }
   ],
   "source": [
    "# first neural network with keras tutorial\n",
    "from numpy import loadtxt\n",
    "from keras.models import Sequential\n",
    "from keras.layers import Dense\n",
    "# load the dataset\n",
    "\n",
    "# define the keras model\n",
    "model = Sequential()\n",
    "model.add(Dense(12, input_dim=12, activation='relu'))\n",
    "model.add(Dense(8, activation='relu'))\n",
    "model.add(Dense(1, activation='sigmoid'))\n",
    "# compile the keras model\n",
    "model.compile(loss='binary_crossentropy', optimizer='adam', metrics=['accuracy'])\n",
    "# fit the keras model on the dataset\n",
    "model.fit(ANN_X_train, y_train, epochs=150, batch_size=10)\n",
    "# evaluate the keras model\n",
    "_, knn_accuracy = model.evaluate(ANN_X_train, y_train,)\n",
    "\n",
    "print('Accuracy: %.2f' % (knn_accuracy*100))"
   ]
  },
  {
   "cell_type": "markdown",
   "id": "415a44bb",
   "metadata": {},
   "source": [
    "# Implementation of XGBOOST Model"
   ]
  },
  {
   "cell_type": "code",
   "execution_count": 51,
   "id": "ff0eb4ad",
   "metadata": {},
   "outputs": [
    {
     "name": "stdout",
     "output_type": "stream",
     "text": [
      "[00:23:58] WARNING: C:/Users/Administrator/workspace/xgboost-win64_release_1.5.1/src/learner.cc:1115: Starting in XGBoost 1.3.0, the default evaluation metric used with the objective 'binary:logistic' was changed from 'error' to 'logloss'. Explicitly set eval_metric if you'd like to restore the old behavior.\n"
     ]
    },
    {
     "name": "stderr",
     "output_type": "stream",
     "text": [
      "C:\\Users\\User\\anaconda3\\lib\\site-packages\\xgboost\\sklearn.py:1224: UserWarning: The use of label encoder in XGBClassifier is deprecated and will be removed in a future release. To remove this warning, do the following: 1) Pass option use_label_encoder=False when constructing XGBClassifier object; and 2) Encode your labels (y) as integers starting with 0, i.e. 0, 1, 2, ..., [num_class - 1].\n",
      "  warnings.warn(label_encoder_deprecation_msg, UserWarning)\n"
     ]
    },
    {
     "name": "stdout",
     "output_type": "stream",
     "text": [
      "[4000, 54543, 61777, 0, 0, 21, 0, 0, 205.58668003, 0, 19, 21.806563464] [1]\n"
     ]
    }
   ],
   "source": [
    "from xgboost import XGBClassifier\n",
    "from sklearn.datasets import make_blobs\n",
    "from numpy import asarray\n",
    "# create the inputs and outputs\n",
    "\n",
    "# define model\n",
    "model = XGBClassifier()\n",
    "# fit model\n",
    "model.fit(xgboost_X_train, y_train)\n",
    "# define input\n",
    "new_input = [4000,54543,61777,0,0,21,0,0,205.58668003,0,19,21.806563464]\n",
    "# get prediction for new input\n",
    "new_output = model.predict(asarray([new_input]))\n",
    "# summarize input and output\n",
    "print(new_input, new_output)"
   ]
  },
  {
   "cell_type": "code",
   "execution_count": 52,
   "id": "56d55399",
   "metadata": {},
   "outputs": [
    {
     "data": {
      "image/png": "[encoded data removed]",
      "text/plain": [
       "<Figure size 432x288 with 1 Axes>"
      ]
     },
     "metadata": {
      "needs_background": "light"
     },
     "output_type": "display_data"
    }
   ],
   "source": [
    "import matplotlib.pyplot as plt\n",
    "x = ['Decision Tree','XGBOOST', 'SVM', 'k-nearest neighbor', 'Naive Bayes', 'ANN']\n",
    "y = [86,91, 79, 87, 79, 90]\n",
    "plt.barh(x, y)\n",
    " \n",
    "for index, value in enumerate(y):\n",
    "    plt.text(value, index,\n",
    "             str(value))\n",
    " \n",
    "plt.show()"
   ]
  },
  {
   "cell_type": "code",
   "execution_count": null,
   "id": "f974afb1",
   "metadata": {},
   "outputs": [],
   "source": []
  }
 ],
 "metadata": {
  "kernelspec": {
   "display_name": "Python 3 (ipykernel)",
   "language": "python",
   "name": "python3"
  },
  "language_info": {
   "codemirror_mode": {
    "name": "ipython",
    "version": 3
   },
   "file_extension": ".py",
   "mimetype": "text/x-python",
   "name": "python",
   "nbconvert_exporter": "python",
   "pygments_lexer": "ipython3",
   "version": "3.9.7"
  }
 },
 "nbformat": 4,
 "nbformat_minor": 5
}
